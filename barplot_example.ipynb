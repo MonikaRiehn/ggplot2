{
 "cells": [
  {
   "cell_type": "code",
   "execution_count": 2,
   "id": "14054f04",
   "metadata": {},
   "outputs": [
    {
     "name": "stderr",
     "output_type": "stream",
     "text": [
      "\n",
      "Attaching package: ‘dplyr’\n",
      "\n",
      "\n",
      "The following objects are masked from ‘package:stats’:\n",
      "\n",
      "    filter, lag\n",
      "\n",
      "\n",
      "The following objects are masked from ‘package:base’:\n",
      "\n",
      "    intersect, setdiff, setequal, union\n",
      "\n",
      "\n"
     ]
    }
   ],
   "source": [
    "library(ggplot2)\n",
    "library(dplyr)\n",
    "library(scales)"
   ]
  },
  {
   "cell_type": "code",
   "execution_count": 11,
   "id": "df444584",
   "metadata": {},
   "outputs": [
    {
     "data": {
      "text/html": [
       "<table class=\"dataframe\">\n",
       "<caption>A data.frame: 6 × 2</caption>\n",
       "<thead>\n",
       "\t<tr><th></th><th scope=col>group</th><th scope=col>year</th></tr>\n",
       "\t<tr><th></th><th scope=col>&lt;chr&gt;</th><th scope=col>&lt;chr&gt;</th></tr>\n",
       "</thead>\n",
       "<tbody>\n",
       "\t<tr><th scope=row>1</th><td>A total</td><td>2021</td></tr>\n",
       "\t<tr><th scope=row>1.1</th><td>A total</td><td>2021</td></tr>\n",
       "\t<tr><th scope=row>1.2</th><td>A total</td><td>2021</td></tr>\n",
       "\t<tr><th scope=row>1.3</th><td>A total</td><td>2021</td></tr>\n",
       "\t<tr><th scope=row>1.4</th><td>A total</td><td>2021</td></tr>\n",
       "\t<tr><th scope=row>1.5</th><td>A total</td><td>2021</td></tr>\n",
       "</tbody>\n",
       "</table>\n"
      ],
      "text/latex": [
       "A data.frame: 6 × 2\n",
       "\\begin{tabular}{r|ll}\n",
       "  & group & year\\\\\n",
       "  & <chr> & <chr>\\\\\n",
       "\\hline\n",
       "\t1 & A total & 2021\\\\\n",
       "\t1.1 & A total & 2021\\\\\n",
       "\t1.2 & A total & 2021\\\\\n",
       "\t1.3 & A total & 2021\\\\\n",
       "\t1.4 & A total & 2021\\\\\n",
       "\t1.5 & A total & 2021\\\\\n",
       "\\end{tabular}\n"
      ],
      "text/markdown": [
       "\n",
       "A data.frame: 6 × 2\n",
       "\n",
       "| <!--/--> | group &lt;chr&gt; | year &lt;chr&gt; |\n",
       "|---|---|---|\n",
       "| 1 | A total | 2021 |\n",
       "| 1.1 | A total | 2021 |\n",
       "| 1.2 | A total | 2021 |\n",
       "| 1.3 | A total | 2021 |\n",
       "| 1.4 | A total | 2021 |\n",
       "| 1.5 | A total | 2021 |\n",
       "\n"
      ],
      "text/plain": [
       "    group   year\n",
       "1   A total 2021\n",
       "1.1 A total 2021\n",
       "1.2 A total 2021\n",
       "1.3 A total 2021\n",
       "1.4 A total 2021\n",
       "1.5 A total 2021"
      ]
     },
     "metadata": {},
     "output_type": "display_data"
    }
   ],
   "source": [
    "# create a data frame\n",
    "group = c(\"A total\", \"A total\", \"sub x\", \"sub x\",\n",
    "           \"sub y\", \"sub y\", \"B total\", \"B total\")\n",
    "year = c(\"2021\", \"2022\", \"2021\", \"2022\", \"2021\", \"2022\", \"2021\", \"2022\")\n",
    "\n",
    "df <- data.frame(group, year)\n",
    "\n",
    "# define replicates of each row\n",
    "duptimes <- c(17322, 27486, 13253, 18145, 4256, 8569, 34458, 39105)\n",
    "\n",
    "# create index of rows with duplications\n",
    "idx <- rep(1:nrow(df), duptimes)\n",
    "\n",
    "# use index to generate data frame\n",
    "df <- df[idx,]\n",
    "\n",
    "# display data frame\n",
    "head(df)"
   ]
  },
  {
   "cell_type": "code",
   "execution_count": 12,
   "id": "97994cfc",
   "metadata": {},
   "outputs": [
    {
     "name": "stderr",
     "output_type": "stream",
     "text": [
      "\u001b[1m\u001b[22m`summarise()` has grouped output by 'group'. You can override using the\n",
      "`.groups` argument.\n"
     ]
    },
    {
     "data": {
      "text/html": [
       "<table class=\"dataframe\">\n",
       "<caption>A grouped_df: 8 × 3</caption>\n",
       "<thead>\n",
       "\t<tr><th scope=col>group</th><th scope=col>year</th><th scope=col>n</th></tr>\n",
       "\t<tr><th scope=col>&lt;chr&gt;</th><th scope=col>&lt;chr&gt;</th><th scope=col>&lt;int&gt;</th></tr>\n",
       "</thead>\n",
       "<tbody>\n",
       "\t<tr><td>A total</td><td>2021</td><td>17322</td></tr>\n",
       "\t<tr><td>A total</td><td>2022</td><td>27486</td></tr>\n",
       "\t<tr><td>B total</td><td>2021</td><td>34458</td></tr>\n",
       "\t<tr><td>B total</td><td>2022</td><td>39105</td></tr>\n",
       "\t<tr><td>sub x  </td><td>2021</td><td>13253</td></tr>\n",
       "\t<tr><td>sub x  </td><td>2022</td><td>18145</td></tr>\n",
       "\t<tr><td>sub y  </td><td>2021</td><td> 4256</td></tr>\n",
       "\t<tr><td>sub y  </td><td>2022</td><td> 8569</td></tr>\n",
       "</tbody>\n",
       "</table>\n"
      ],
      "text/latex": [
       "A grouped\\_df: 8 × 3\n",
       "\\begin{tabular}{lll}\n",
       " group & year & n\\\\\n",
       " <chr> & <chr> & <int>\\\\\n",
       "\\hline\n",
       "\t A total & 2021 & 17322\\\\\n",
       "\t A total & 2022 & 27486\\\\\n",
       "\t B total & 2021 & 34458\\\\\n",
       "\t B total & 2022 & 39105\\\\\n",
       "\t sub x   & 2021 & 13253\\\\\n",
       "\t sub x   & 2022 & 18145\\\\\n",
       "\t sub y   & 2021 &  4256\\\\\n",
       "\t sub y   & 2022 &  8569\\\\\n",
       "\\end{tabular}\n"
      ],
      "text/markdown": [
       "\n",
       "A grouped_df: 8 × 3\n",
       "\n",
       "| group &lt;chr&gt; | year &lt;chr&gt; | n &lt;int&gt; |\n",
       "|---|---|---|\n",
       "| A total | 2021 | 17322 |\n",
       "| A total | 2022 | 27486 |\n",
       "| B total | 2021 | 34458 |\n",
       "| B total | 2022 | 39105 |\n",
       "| sub x   | 2021 | 13253 |\n",
       "| sub x   | 2022 | 18145 |\n",
       "| sub y   | 2021 |  4256 |\n",
       "| sub y   | 2022 |  8569 |\n",
       "\n"
      ],
      "text/plain": [
       "  group   year n    \n",
       "1 A total 2021 17322\n",
       "2 A total 2022 27486\n",
       "3 B total 2021 34458\n",
       "4 B total 2022 39105\n",
       "5 sub x   2021 13253\n",
       "6 sub x   2022 18145\n",
       "7 sub y   2021  4256\n",
       "8 sub y   2022  8569"
      ]
     },
     "metadata": {},
     "output_type": "display_data"
    }
   ],
   "source": [
    "# display grouped data frame\n",
    "\n",
    "grouped <- df |> group_by(group, year) |> summarize(n = n())\n",
    "grouped"
   ]
  },
  {
   "cell_type": "code",
   "execution_count": 22,
   "id": "7d01ab44",
   "metadata": {},
   "outputs": [
    {
     "data": {
      "image/png": "[encoded data removed]",
      "text/plain": [
       "plot without title"
      ]
     },
     "metadata": {
      "image/png": {
       "height": 420,
       "width": 420
      }
     },
     "output_type": "display_data"
    }
   ],
   "source": [
    "# data layer\n",
    "ggplot(df, aes(x = group, fill = year)) +\n",
    "\n",
    "# barplot\n",
    "geom_bar(position = position_dodge2(preserve = \"single\", width = 1)) +\n",
    "\n",
    "# text in bars\n",
    "geom_text(aes(label = comma(after_stat(count), big.mark = \".\", decimal.mark = \",\")), \n",
    "          stat = \"count\", \n",
    "          vjust = 1.7,\n",
    "          hjust = .5,\n",
    "          colour = \"black\",\n",
    "          position = position_dodge(width = .9)) +\n",
    "\n",
    "# annotations above bars\n",
    "annotate(\"text\", x = 1.25, y = 29000, label = \"+ C %\") +\n",
    "annotate(\"text\", x = 2.25, y = 40500, label = \"+ D %\") +\n",
    "annotate(\"text\", x = 3.25, y = 19500, label = \"+ E %\") +\n",
    "annotate(\"text\", x = 4.25, y = 10000, label = \"+ F %\") +\n",
    "\n",
    "# set general theme and font family\n",
    "theme_light(base_size = 14, \n",
    "            base_family = \"Work Sans\") +\n",
    "\n",
    "# fill bars with specific colors\n",
    "scale_fill_manual(values = c(\"#C9A7EB\",\"#B0DAFF\")) +\n",
    "\n",
    "# set plot title and legend title\n",
    "labs(title = \"This is a title\",\n",
    "     fill = \"Year\",\n",
    "     x = element_blank(), \n",
    "     y = element_blank()) +\n",
    "\n",
    "# change the default x labels in order to insert line break\n",
    "scale_x_discrete(labels = c(\"A Total\",\n",
    "                            \"B total\",\n",
    "                            \"Sub x\",\n",
    "                            \"Sub y\")) +\n",
    "\n",
    "# format numbers of y-label with big.mark \".\"\n",
    "scale_y_continuous(labels = label_number(big.mark = \".\",\n",
    "                                         decimal.mark = \",\"),\n",
    "                   breaks = c(10000,20000,30000,40000)) +\n",
    "\n",
    "# specify further theme elements\n",
    "theme(panel.border = element_blank(),\n",
    "      panel.grid.major.x = element_blank(),\n",
    "      panel.grid.minor.y = element_blank(),\n",
    "      axis.ticks = element_blank(),\n",
    "      plot.title = element_text(face = 'bold',\n",
    "                              size = 18,\n",
    "                              margin = margin(0,0,20,0), hjust = .4),\n",
    "      axis.text.x = element_text(angle = 45, vjust = 1, hjust = .9))"
   ]
  },
  {
   "cell_type": "code",
   "execution_count": 19,
   "id": "8816b405",
   "metadata": {},
   "outputs": [],
   "source": [
    "# export image\n",
    "\n",
    "ggsave((\"barplot_example.png\"), \n",
    "device = \"png\", units = \"cm\", width = 20, height = 19)\n",
    "\n",
    "ggsave((\"barplot_example.jpg\"), \n",
    "device = \"jpg\", units = \"cm\", width = 20, height = 19)"
   ]
  },
  {
   "cell_type": "code",
   "execution_count": null,
   "id": "ef8aedbd",
   "metadata": {},
   "outputs": [],
   "source": []
  }
 ],
 "metadata": {
  "kernelspec": {
   "display_name": "R",
   "language": "R",
   "name": "ir"
  },
  "language_info": {
   "codemirror_mode": "r",
   "file_extension": ".r",
   "mimetype": "text/x-r-source",
   "name": "R",
   "pygments_lexer": "r",
   "version": "4.3.0"
  }
 },
 "nbformat": 4,
 "nbformat_minor": 5
}
